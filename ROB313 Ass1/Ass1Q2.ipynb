{
 "cells": [
  {
   "cell_type": "code",
   "execution_count": 46,
   "metadata": {},
   "outputs": [],
   "source": [
    "import numpy as np\n",
    "import matplotlib.pyplot as plt\n",
    "from sklearn.neighbors import KDTree\n",
    "\n",
    "from data_utils import load_dataset\n",
    "x_train, x_valid, x_test, y_train, y_valid, y_test = load_dataset('rosenbrock', n_train=5000, d=10)     #choose data set to load in\n",
    "\n",
    "x_train = np.vstack([x_valid, x_train])\n",
    "y_train = np.vstack([y_valid, y_train])\n",
    "np.random.seed(0)\n",
    "\n",
    "def dist(xtest, xtrain, l):        #Take in test point and compare to training set of points.\n",
    "    if l==1:\n",
    "           return np.sqrt(np.sum(np.square(xtrain-xtest), axis=1))\n",
    "    elif l==2:\n",
    "        return (np.sum(abs(xtrain-xtest)**(3), axis=1))**(1/3)\n",
    "    else:\n",
    "        return \"ERROR\"\n",
    "    \n",
    "def knn_reg(xtest,xtrain,ytrain,k,l):      #perfomr KNN with x_test to produce y_test predictions\n",
    "    ytout=[]\n",
    "    KDT = KDTree(xtrain)\n",
    "    dist, nn = KDT.query(xtest, k=k)\n",
    "    yt=0\n",
    "    for i in range(0,len(nn)):\n",
    "        for j in range(0,len(nn[0])):\n",
    "            yt = yt + ytrain[nn[i][j]]\n",
    "        yt = yt/len(nn)\n",
    "        ytout=ytout+[yt]\n",
    "    return ytout"
   ]
  }
 ],
 "metadata": {
  "kernelspec": {
   "display_name": "Python 3",
   "language": "python",
   "name": "python3"
  },
  "language_info": {
   "codemirror_mode": {
    "name": "ipython",
    "version": 3
   },
   "file_extension": ".py",
   "mimetype": "text/x-python",
   "name": "python",
   "nbconvert_exporter": "python",
   "pygments_lexer": "ipython3",
   "version": "3.8.5"
  }
 },
 "nbformat": 4,
 "nbformat_minor": 4
}
